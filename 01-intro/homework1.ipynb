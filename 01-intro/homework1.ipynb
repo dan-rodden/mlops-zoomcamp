{
 "cells": [
  {
   "cell_type": "code",
   "execution_count": 3,
   "id": "ad325ccc-849b-4abc-a4c4-b3f004e24b98",
   "metadata": {},
   "outputs": [
    {
     "data": {
      "text/plain": [
       "'2.2.3'"
      ]
     },
     "execution_count": 3,
     "metadata": {},
     "output_type": "execute_result"
    }
   ],
   "source": [
    "import pandas as pd\n",
    "pd.__version__"
   ]
  },
  {
   "cell_type": "code",
   "execution_count": 20,
   "id": "a26e2b3d-85e8-47c0-8979-dc0d78f5c28c",
   "metadata": {},
   "outputs": [],
   "source": [
    "import pickle"
   ]
  },
  {
   "cell_type": "code",
   "execution_count": 4,
   "id": "fec23100-27d1-4184-977e-cf7c6bdaba03",
   "metadata": {},
   "outputs": [],
   "source": [
    "import seaborn as sns\n",
    "import matplotlib.pyplot as plt\n",
    "import numpy as np\n",
    "%matplotlib inline"
   ]
  },
  {
   "cell_type": "code",
   "execution_count": 5,
   "id": "1443525e-6566-4695-89a0-7cbd1c9653df",
   "metadata": {},
   "outputs": [
    {
     "data": {
      "text/plain": [
       "'1.6.1'"
      ]
     },
     "execution_count": 5,
     "metadata": {},
     "output_type": "execute_result"
    }
   ],
   "source": [
    "import sklearn\n",
    "from sklearn.feature_extraction import DictVectorizer\n",
    "from sklearn.linear_model import LinearRegression\n",
    "from sklearn.linear_model import Lasso\n",
    "from sklearn.metrics import mean_squared_error\n",
    "from sklearn.metrics import root_mean_squared_error\n",
    "sklearn.__version__"
   ]
  },
  {
   "cell_type": "code",
   "execution_count": 6,
   "id": "1d3de494-fc89-4fb9-a426-e9d34cc92372",
   "metadata": {},
   "outputs": [],
   "source": [
    "def read_dataframe(filename, categorical, numerical):\n",
    "    # combine all the preprocessing into a single cell\n",
    "    df = pd.read_parquet(filename)\n",
    "\n",
    "    df.lpep_pickup_datetime = pd.to_datetime(df.lpep_pickup_datetime)\n",
    "    df.lpep_dropoff_datetime = pd.to_datetime(df.lpep_dropoff_datetime)\n",
    "\n",
    "    df['duration'] = df.lpep_dropoff_datetime - df.lpep_pickup_datetime\n",
    "    df['duration_in_mins'] = df.duration.apply(lambda x: x.total_seconds() / 60)\n",
    "\n",
    "    df = df[(df.duration_in_mins >= 1) & (df.duration_in_mins <= 60)]\n",
    "\n",
    "    plt.hist(df.duration_in_mins, bins=50)\n",
    "\n",
    "    df[categorical] = df[categorical].astype(str)\n",
    "\n",
    "    return df"
   ]
  },
  {
   "cell_type": "code",
   "execution_count": 7,
   "id": "a1ab99d8-2805-4b98-8c1e-4cba8c5066be",
   "metadata": {},
   "outputs": [
    {
     "data": {
      "image/png": "[encoded data removed]",
      "text/plain": [
       "<Figure size 640x480 with 1 Axes>"
      ]
     },
     "metadata": {},
     "output_type": "display_data"
    }
   ],
   "source": [
    "train_df = read_dataframe(filename='https://d37ci6vzurychx.cloudfront.net/trip-data/green_tripdata_2021-01.parquet', categorical=['PULocationID', 'DOLocationID' ], numerical=['trip_distance'])\n",
    "val_df = read_dataframe(filename='https://d37ci6vzurychx.cloudfront.net/trip-data/green_tripdata_2021-02.parquet', categorical=['PULocationID', 'DOLocationID' ], numerical=['trip_distance'])"
   ]
  },
  {
   "cell_type": "markdown",
   "id": "ea5631d3-5c07-4149-9f2e-ea965331a5f8",
   "metadata": {},
   "source": [
    "### Training the Model"
   ]
  },
  {
   "cell_type": "code",
   "execution_count": 8,
   "id": "71b1e0eb-5982-448d-8cb4-e4af624e07cc",
   "metadata": {},
   "outputs": [],
   "source": [
    "#define a new feature\n",
    "train_df['PO_DO'] = train_df['PULocationID'] + '_' + train_df['DOLocationID']\n",
    "val_df['PO_DO'] = val_df['PULocationID'] + '_' + val_df['DOLocationID']"
   ]
  },
  {
   "cell_type": "code",
   "execution_count": 16,
   "id": "4268387f-0dfd-4ee9-a7ee-a024b9552ebf",
   "metadata": {},
   "outputs": [],
   "source": [
    "target = 'PO_DO'\n",
    "categorical=['PULocationID', 'DOLocationID' ]\n",
    "numerical=['trip_distance']\n",
    "\n",
    "train_dict = pd.DataFrame(train_df[target]).to_dict(orient='records')\n",
    "val_dict = pd.DataFrame(val_df[target]).to_dict(orient='records')"
   ]
  },
  {
   "cell_type": "code",
   "execution_count": 17,
   "id": "39b63487-f336-4900-a716-d4c6b2318dc4",
   "metadata": {},
   "outputs": [],
   "source": [
    "target = 'duration_in_mins'\n",
    "y_train = train_df[target].values\n",
    "y_val = val_df[target].values"
   ]
  },
  {
   "cell_type": "code",
   "execution_count": 18,
   "id": "2cd8ce4e-699e-4d56-8df9-dbe7e4c89074",
   "metadata": {},
   "outputs": [],
   "source": [
    "dv = DictVectorizer()\n",
    "X_train = dv.fit_transform(train_dict)\n",
    "X_val = dv.transform(val_dict)"
   ]
  },
  {
   "cell_type": "code",
   "execution_count": 19,
   "id": "e1db28b0-c2ea-4bdb-b5b0-a75669c4f385",
   "metadata": {},
   "outputs": [
    {
     "data": {
      "text/plain": [
       "7.480874659865807"
      ]
     },
     "execution_count": 19,
     "metadata": {},
     "output_type": "execute_result"
    }
   ],
   "source": [
    "lr = LinearRegression()\n",
    "\n",
    "lr.fit(X_train, y_train)\n",
    "\n",
    "y_pred = lr.predict(X_val)\n",
    "\n",
    "root_mean_squared_error(y_pred, y_val)"
   ]
  },
  {
   "cell_type": "code",
   "execution_count": 21,
   "id": "b3ec9884-7bf1-4b21-851a-142dcad64681",
   "metadata": {},
   "outputs": [
    {
     "ename": "SyntaxError",
     "evalue": "incomplete input (450696369.py, line 1)",
     "output_type": "error",
     "traceback": [
      "  \u001b[36mCell\u001b[39m\u001b[36m \u001b[39m\u001b[32mIn[21]\u001b[39m\u001b[32m, line 1\u001b[39m\n\u001b[31m    \u001b[39m\u001b[31mwith open('/models/lin_reg.bin', 'wb') as f_out:\u001b[39m\n                                                    ^\n\u001b[31mSyntaxError\u001b[39m\u001b[31m:\u001b[39m incomplete input\n"
     ]
    }
   ],
   "source": [
    "with open('/models/lin_reg.bin', 'wb') as f_o:\n",
    "    "
   ]
  },
  {
   "cell_type": "code",
   "execution_count": null,
   "id": "d5069e1f-cd49-40ad-8821-3a4251688c1f",
   "metadata": {},
   "outputs": [],
   "source": []
  }
 ],
 "metadata": {
  "kernelspec": {
   "display_name": "Python 3 (ipykernel)",
   "language": "python",
   "name": "python3"
  },
  "language_info": {
   "codemirror_mode": {
    "name": "ipython",
    "version": 3
   },
   "file_extension": ".py",
   "mimetype": "text/x-python",
   "name": "python",
   "nbconvert_exporter": "python",
   "pygments_lexer": "ipython3",
   "version": "3.12.1"
  }
 },
 "nbformat": 4,
 "nbformat_minor": 5
}
